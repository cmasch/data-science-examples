{
 "cells": [
  {
   "cell_type": "code",
   "execution_count": 1,
   "metadata": {},
   "outputs": [],
   "source": [
    "# Data\n",
    "X = ['this movie was bad', 'it was not good and really bad', 'this movie was good']\n",
    "y = [1, 1, 0]"
   ]
  },
  {
   "cell_type": "markdown",
   "metadata": {},
   "source": [
    "## Simple Rule Based Classifier\n",
    "This approach uses keywords as input to find occuring words or ngrams in texts. Keep in mind that just one match is enough to predict the given class. If you have a mix of positive and negative features in one text this rule based classifier is not the best one."
   ]
  },
  {
   "cell_type": "markdown",
   "metadata": {},
   "source": [
    "#### Model"
   ]
  },
  {
   "cell_type": "code",
   "execution_count": 2,
   "metadata": {},
   "outputs": [],
   "source": [
    "import numpy as np\n",
    "from sklearn.base import BaseEstimator, ClassifierMixin\n",
    "from flashtext import KeywordProcessor\n",
    "\n",
    "class RuleBasedClassifier(BaseEstimator, ClassifierMixin):\n",
    "    \n",
    "    def __init__(self, keywords, random_state=None, verbose=0):\n",
    "        self.random_state = random_state\n",
    "        self.verbose      = verbose\n",
    "        self.load_rules(keywords)\n",
    "        \n",
    "    def get_rules_size(self):\n",
    "        \"\"\"Get count of rules loaded\"\"\"\n",
    "        return len(self.rules.get_all_keywords())\n",
    "        \n",
    "    def load_rules(self, keywords):\n",
    "        \"\"\"Loading rules\"\"\"\n",
    "        self.rules = KeywordProcessor()\n",
    "        for keyword in keywords:\n",
    "            self.rules.add_keyword(keyword)\n",
    "        if self.verbose==1: print(\"Rules loaded:\", self.get_rules_size())\n",
    "    \n",
    "    def predict(self, X):\n",
    "        \"\"\"Predict by rules matching\"\"\"\n",
    "        y = np.zeros(len(X), dtype=np.int)\n",
    "        for idx, text in enumerate(X):\n",
    "            rules_found = self.rules.extract_keywords(text)\n",
    "            if len(rules_found) > 0:\n",
    "                y[idx] = 1\n",
    "        return y"
   ]
  },
  {
   "cell_type": "markdown",
   "metadata": {},
   "source": [
    "#### Evaluation"
   ]
  },
  {
   "cell_type": "code",
   "execution_count": 3,
   "metadata": {},
   "outputs": [
    {
     "name": "stdout",
     "output_type": "stream",
     "text": [
      "Rules loaded: 4\n"
     ]
    },
    {
     "data": {
      "text/plain": [
       "array([1, 1, 0])"
      ]
     },
     "execution_count": 3,
     "metadata": {},
     "output_type": "execute_result"
    }
   ],
   "source": [
    "keywords = ['bad', 'not tasty', 'not good', 'crap']\n",
    "\n",
    "rule = RuleBasedClassifier(keywords, verbose=1)\n",
    "rule.predict(X)"
   ]
  },
  {
   "cell_type": "markdown",
   "metadata": {},
   "source": [
    "## Handselected Feature Classifier\n",
    "This classifier uses predefined features (e.g. words, ngrams) and lookups in which texts this features occurs. The result is a bag of words approach as input for a classifier e.g. RandomForest to train on. Its a mix of rule based and machine learning which can handle the problem described at simple rule based classifier."
   ]
  },
  {
   "cell_type": "code",
   "execution_count": 4,
   "metadata": {},
   "outputs": [],
   "source": [
    "from sklearn.ensemble import RandomForestClassifier\n",
    "from sklearn.base import BaseEstimator, ClassifierMixin\n",
    "from flashtext import KeywordProcessor\n",
    "import numpy as np\n",
    "\n",
    "class HandselectedFeatureClassifier(BaseEstimator, ClassifierMixin):\n",
    "    \"\"\"This classifier learns handselected features to estimate the target\"\"\"\n",
    "    \n",
    "    def __init__(self, estimator, features, random_state=None, verbose=0):\n",
    "        self.estimator         = estimator\n",
    "        self.random_state      = random_state\n",
    "        self.verbose           = verbose\n",
    "        self.estimator.verbose = self.verbose\n",
    "        self.load_features(features)\n",
    "        \n",
    "    def load_features(self, features):\n",
    "        \"\"\"Loading features\"\"\"\n",
    "        self.rules = KeywordProcessor()\n",
    "        for feature in features:\n",
    "            self.rules.add_keyword(feature)\n",
    "        if self.verbose==1: print(\"Features loaded:\", self.get_features_size())\n",
    "    \n",
    "    def transform(self, X):\n",
    "        \"\"\"Vectorize texts by bow approach\"\"\"\n",
    "        X_vector = np.zeros([len(X),self.get_features_size()], dtype=np.int)\n",
    "        for idx_entry, text in enumerate(X):\n",
    "            for idx_rule, rule in enumerate(self.rules.get_all_keywords()):\n",
    "                if rule in text:\n",
    "                    X_vector[idx_entry][idx_rule] = 1\n",
    "        return X_vector\n",
    "    \n",
    "    def get_features_size(self):\n",
    "        \"\"\"Get the amount of features loaded\"\"\"\n",
    "        return len(self.rules.get_all_keywords())\n",
    "    \n",
    "    def fit(self, X, y):\n",
    "        \"\"\"Train estimator with features and targets\"\"\"\n",
    "        self.estimator.fit(X, y)\n",
    "    \n",
    "    def predict(self, X):\n",
    "        \"\"\"Predict on data\"\"\"\n",
    "        return self.estimator.predict(X)\n",
    "    \n",
    "    def get_estimator_params(self):\n",
    "        \"\"\"Get estimator params\"\"\"\n",
    "        return self.estimator.get_params()"
   ]
  },
  {
   "cell_type": "code",
   "execution_count": 5,
   "metadata": {},
   "outputs": [
    {
     "name": "stdout",
     "output_type": "stream",
     "text": [
      "Vectorized (bow):\n",
      "[[1 0 0 0 0]\n",
      " [1 1 0 0 1]\n",
      " [0 1 0 0 0]]\n"
     ]
    },
    {
     "data": {
      "text/plain": [
       "array([1, 1, 0])"
      ]
     },
     "execution_count": 5,
     "metadata": {},
     "output_type": "execute_result"
    }
   ],
   "source": [
    "handSelected_features = ['bad', 'good', 'great', 'crap', 'not good']\n",
    "\n",
    "sf = HandselectedFeatureClassifier(RandomForestClassifier(n_estimators=10), handSelected_features, verbose=0)\n",
    "sf.fit(sf.transform(X),y)\n",
    "print(\"Vectorized (bow):\\n%s\"%sf.transform(X))\n",
    "sf.predict(sf.transform(X))"
   ]
  }
 ],
 "metadata": {
  "kernelspec": {
   "display_name": "Python 3",
   "language": "python",
   "name": "python3"
  },
  "language_info": {
   "codemirror_mode": {
    "name": "ipython",
    "version": 3
   },
   "file_extension": ".py",
   "mimetype": "text/x-python",
   "name": "python",
   "nbconvert_exporter": "python",
   "pygments_lexer": "ipython3",
   "version": "3.6.9"
  }
 },
 "nbformat": 4,
 "nbformat_minor": 2
}
