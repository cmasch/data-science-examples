{
 "cells": [
  {
   "cell_type": "markdown",
   "metadata": {},
   "source": [
    "# How neural networks learn\n",
    "Understanding the basics of neural nets and its mathmatics is an essential part working with them. I expect knowledge about vectors and matrices.<br>\n",
    "In the following I will explain the most important parts to create a small and simple neural net using numpy."
   ]
  },
  {
   "cell_type": "code",
   "execution_count": 1,
   "metadata": {},
   "outputs": [],
   "source": [
    "import numpy as np\n",
    "import matplotlib.pyplot as plt\n",
    "plt.style.use('seaborn')"
   ]
  },
  {
   "cell_type": "markdown",
   "metadata": {},
   "source": [
    "## Activation function\n",
    "An activation function is used in neural networks to define the outputs of neurons.<br>\n",
    "The most popular activation functions are sigmoid, tanh and ReLU.\n",
    "\n",
    "<br>\n",
    "**Sigmoid:**<br>\n",
    "$\\sigma(z)=\\frac{1}{(1+e^{-z})}$\n",
    "\n",
    "Sigmoid neurons are similar to perceptrons, but modified that small changes in their weights and bias cause only a small change in their output. Sigmoid neurons give us flexibility of continous values between 0 and 1.<br>\n",
    "\n",
    "<br>\n",
    "**Hyperbolic tangent (Tanh):**<br>\n",
    "$tanh(z) = \\frac{e^z - e^{-z}}{e^z + e^{-z}}$\n",
    "\n",
    "Tanh is quit similiar to Sigmoid. The output values ranges from -1 to 1. In the case of sigmoid the output values are between 0 and 1. You can modify the sigmoid function to get the same output of tanh:<br>$tanh(z) = 2 * \\sigma(2 * z) - 1$<br>\n",
    "\n",
    "<br>\n",
    "**Rectified linear unit (ReLU):**<br>\n",
    "$relu(z) = max(0,z)$\n",
    "\n",
    "ReLU is on of the most popular activation function for deep neural networks.<br>\n",
    "One drawback of ReLU is when the weighted input to a rectified linear unit is negative. This causes in the gradient vanishes and so the neuron stops learning entirely. As an example:<br>$relu(-100.99) = 0$"
   ]
  },
  {
   "cell_type": "markdown",
   "metadata": {},
   "source": [
    "Below you can find some visuzalitions of this three functions:"
   ]
  },
  {
   "cell_type": "code",
   "execution_count": 2,
   "metadata": {},
   "outputs": [
    {
     "data": {
      "image/png": "[encoded data removed]",
      "text/plain": [
       "<Figure size 432x288 with 1 Axes>"
      ]
     },
     "metadata": {},
     "output_type": "display_data"
    }
   ],
   "source": [
    "def tanh(z):\n",
    "    return np.tanh(z)\n",
    "\n",
    "def sigmoid(z):\n",
    "    return 1 / (1 + np.exp(-z))\n",
    "\n",
    "def relu(z):\n",
    "    return max(0,z)\n",
    "\n",
    "X = [x/10 for x in range(-40, 40)]\n",
    "\n",
    "plt.plot(X, [sigmoid(x) for x in X])\n",
    "plt.plot(X, [tanh(x)    for x in X])\n",
    "plt.plot(X, [relu(x)    for x in X])\n",
    "plt.ylim(-2.0,2.0)\n",
    "plt.legend(['Sigmoid', 'Tanh', 'ReLU'])\n",
    "plt.show()"
   ]
  },
  {
   "cell_type": "markdown",
   "metadata": {},
   "source": [
    "## Computing the outputs by forward propagation\n",
    "\n",
    "In a feedforward neural net we use $x$ as input to produce an output $ý$. The input provides inital information that propagates through the network to the output layer.\n",
    "\n",
    "Consider we have a network with two inputs of **x = [0.1, 0.9]**, a hidden layer with two units and one final output. Besides I add bias neurons (orange nodes) on each layer except input to get more flexibility to learn. To keep it simple and reproducible I intitalized all weights with fixed values.<br>\n",
    "Normally they will be intitialized randomly.\n",
    "\n",
    "As final output you get the value of **0.618**\n",
    "\n",
    "![Neural_net-forward.png](attachment:Neural_net-forward.png)\n",
    "\n",
    "To get the prediction of 0.618 you can execute this code:"
   ]
  },
  {
   "cell_type": "code",
   "execution_count": 3,
   "metadata": {
    "scrolled": false
   },
   "outputs": [
    {
     "name": "stdout",
     "output_type": "stream",
     "text": [
      "-- Layer 1 --\n",
      "Inputs:\n",
      " [[0.17]\n",
      " [0.36]]\n",
      "Outputs:\n",
      " [[0.54239794]\n",
      " [0.58904043]]\n",
      "\n",
      "\n",
      "-- Layer 2 --\n",
      "Inputs:\n",
      " [[0.48519172]]\n",
      "Outputs:\n",
      " [[0.61897307]]\n",
      "\n",
      "\n"
     ]
    }
   ],
   "source": [
    "layers = [2,2,1]\n",
    "\n",
    "biases = [\n",
    "    [[0.1],[0.1]],              # on first hidden layer\n",
    "    [[0.2]]                     # on second layer (here output layer)\n",
    "]\n",
    "\n",
    "weights =[\n",
    "    [[-0.2, 0.1], [-0.1, 0.3]], # on first hidden layer\n",
    "    [[0.2, 0.3]]                # on second layer (here output layer)\n",
    "]\n",
    "\n",
    "def forward_propagation(a):\n",
    "    layer_inputs = []\n",
    "    activations  = []\n",
    "    for b, w in zip(biases, weights):\n",
    "        z = np.dot(w,a) + b\n",
    "        layer_inputs.append(z)\n",
    "        a = sigmoid(z)\n",
    "        activations.append(a)\n",
    "    return layer_inputs, activations\n",
    "\n",
    "X = np.array([ [0.1, 0.9] ]).T\n",
    "\n",
    "layer_inputs, activations = forward_propagation(X)\n",
    "\n",
    "for idx, i in enumerate(zip(layer_inputs, activations)):\n",
    "    print('-- Layer %i --' % (idx+1))\n",
    "    print('Inputs:\\n',  i[0])\n",
    "    print('Outputs:\\n', i[1])\n",
    "    print('\\n')"
   ]
  },
  {
   "cell_type": "markdown",
   "metadata": {},
   "source": [
    "What's happening is we forward the input of **x = [0.1, 0.9]** to the output.\n",
    "\n",
    "First we calculate the inputs $net_j$ to the first hidden layer with it's outputs by using sigmoid as activation function $\\sigma(net_j)$. We use two definitions:\n",
    "\n",
    "$w_{i,j}$ is defined as the weight between the neuron $i$ and $j$<br>\n",
    "$x_i$ is defined as the input of neuron $i$\n",
    "\n",
    "\n",
    "The input $net_j$ to a neuron is the weighted sum of outputs $o_i$ of previous neurons. So we came up with the following equations:\n",
    "\n",
    "$net_j = w_{0,j} + \\sum\\limits_{i=1}^n x_i*w_{i,j}$<br>\n",
    "$o_j = \\frac{1}{(1+e^{-net_{j}})}$<br>\n",
    "<br>\n",
    "\n",
    "If we placed in the values for the hidden layer:\n",
    "\n",
    "$net_4 = 0.1 + (0.1 * -0.2) + (0.9 * 0.1)= 0.17$<br>\n",
    "$o_4 = \\frac{1}{(1+e^{-0.17})} = 0.542$<br>\n",
    "<br>\n",
    "\n",
    "$net_5 = 0.1 + (0.1 * -0.1) + (0.9 * 0.3)= 0.36$<br>\n",
    "$o_5 = \\frac{1}{(1+e^{-0.17})} = 0.589$<br>\n",
    "\n",
    "_________________\n",
    "The results from the hidden layer is the input to the next layer:\n",
    "\n",
    "$net_6 = 0.2 + (0.542 * 0.2) + (0.589 * 0.3) = 0.4851$<br>\n",
    "$o_6 = \\frac{1}{(1+e^{-0.4851})} = 0.6189$\n",
    "\n",
    "As you can see above, the final output is $ý=0.6189$\n",
    "\n",
    "Now we have to compare this result of $ý$ with the expected value of $y$ to measure the output error."
   ]
  },
  {
   "cell_type": "markdown",
   "metadata": {},
   "source": [
    "## Back propagation\n",
    "\n",
    "The goal of backpropagation is to compute the partial derivatives of the cost function. The objective is to get the ground truth by changing the weights of the network. In the previous example we used the sigmoid activation function."
   ]
  },
  {
   "cell_type": "code",
   "execution_count": 4,
   "metadata": {},
   "outputs": [
    {
     "name": "stdout",
     "output_type": "stream",
     "text": [
      "Error of final output: [[0.06627891]]\n",
      "\n",
      "New bias weight (3): [[0.21656973]]\n",
      "\n",
      "New weights (4 & 5):\n",
      " [[0.20898739 0.30976024]]\n",
      "\n",
      "Error of units (4 & 5):\n",
      " [[0.00329012]\n",
      " [0.00481328]]\n",
      "\n",
      "New bias weights (0):\n",
      " [[0.10082253]\n",
      " [0.10120332]]\n",
      "\n",
      "New weights (0):\n",
      " [[-0.19955386  0.1004845 ]\n",
      " [-0.09934732  0.3007088 ]]\n"
     ]
    }
   ],
   "source": [
    "y   = [0.9]\n",
    "eta = 0.25\n",
    "\n",
    "def back_propagation(y,verbose=0):\n",
    "    global biases, weights\n",
    "    new_b = [np.zeros(np.array(b).shape) for b in biases]\n",
    "    new_w = [np.zeros(np.array(w).shape) for w in weights]\n",
    "    \n",
    "    # Getting error of final output\n",
    "    error = (y - activations[-1]) * sigmoid(layer_inputs[-1]) * (1 - sigmoid(layer_inputs[-1]))\n",
    "    new_b[-1] = error\n",
    "    new_w[-1] = np.dot(error, activations[-2].transpose())\n",
    "    \n",
    "    if verbose == 1:\n",
    "        print('Error of final output:', error)\n",
    "        print('\\nNew bias weight (3):', error * eta + biases[-1])\n",
    "        print('\\nNew weights (4 & 5):\\n', activations[-2].T * error * eta + np.array(weights[-1]))\n",
    "\n",
    "    for layer in range(2, len(layers)):\n",
    "        z = layer_inputs[-layer]\n",
    "        sp = sigmoid(z) * (1 - sigmoid(z))\n",
    "        error = np.dot(np.array(weights[-layer+1]).T, error) * sp\n",
    "        new_b[-layer] = error\n",
    "        new_w[-layer] = np.dot(error, activations[-layer].T)\n",
    "        \n",
    "        if verbose == 1:\n",
    "            print('\\nError of units (4 & 5):\\n', error)\n",
    "            print('\\nNew bias weights (0):\\n', error * eta + np.array(biases[-layer]))\n",
    "            print('\\nNew weights (0):\\n', (np.array(new_w) * eta + weights)[0])\n",
    "    \n",
    "    # Updating the weights\n",
    "    biases  = np.array(new_b) * eta + biases\n",
    "    weights = np.array(new_w) * eta + weights\n",
    "    \n",
    "    return biases, weights\n",
    "    \n",
    "biases, weights = back_propagation(y, verbose=1)"
   ]
  },
  {
   "cell_type": "markdown",
   "metadata": {},
   "source": [
    "Printing all values"
   ]
  },
  {
   "cell_type": "code",
   "execution_count": 5,
   "metadata": {},
   "outputs": [
    {
     "name": "stdout",
     "output_type": "stream",
     "text": [
      "Biases:\n",
      " [array([[0.10082253],\n",
      "       [0.10120332]]) array([[0.21656973]])]\n",
      "\n",
      "Weights:\n",
      " [array([[-0.19955386,  0.1004845 ],\n",
      "       [-0.09934732,  0.3007088 ]])\n",
      " array([[0.20898739, 0.30976024]])]\n"
     ]
    }
   ],
   "source": [
    "print('Biases:\\n',biases)\n",
    "\n",
    "print('\\nWeights:\\n',weights)"
   ]
  },
  {
   "cell_type": "markdown",
   "metadata": {},
   "source": [
    "To understand the code above you can use following equations of back propagation to verify the result. This step is the most important one and sometimes a bit confusing.\n",
    "\n",
    "We start with the last layer (output layer). $t_k$ is the correct target value of unit $k$. The actual predicted value by the neural net on unit $k$ is $o_k$. This lead us to the following equation to get the error on the **last layer**:<br>\n",
    "$\\delta_k = (t_k - o_k) * o_k * (1 - o_k)$\n",
    "\n",
    "This error is important for changing the weights between the last layer of unit $k$ and unit $j$ of the layer before:<br>\n",
    "$w_{j,k}^{new} = \\eta * \\delta_k * o_j + w_{j,k}^{old}$\n",
    "\n",
    "______________\n",
    "Calculating manually:\n",
    "\n",
    "$\\delta_6 = (0.9 - 0.619) * 0.619 * (1 - 0.619) = 0.0662$\n",
    "\n",
    "$w_{3,6}^{new} = 0.25 * 0.066 * 1.000 + 0.2 = 0.2165$\n",
    "\n",
    "$w_{4,6}^{new} = 0.25 * 0.066 * 0.542 + 0.2 = 0.2089$\n",
    "\n",
    "$w_{5,6}^{new} = 0.25 * 0.066 * 0.589 + 0.3 = 0.3097$\n",
    "\n",
    "______________\n",
    "\n",
    "On the layer before the output you have to use another but quite similiar equation for getting the error:<br>\n",
    "$\\delta_j = o_k * (1 - o_k) * \\sum\\limits_{j=0}^m \\delta_k * w_{j,k}$\n",
    "\n",
    "Using the error is the same like above:<br>\n",
    "$w_{i,j}^{new} = \\eta * \\delta_j * o_i + w_{i,j}^{old}$\n",
    "\n",
    "\n",
    "$\\delta_4 = 0.542 * (1 - 0.542) * (0.066 * 0.2) = 0.0033$\n",
    "\n",
    "$w_{0,4}^{new} = 0.25 * 0.0033 * 1.000 + 0.1 = 0.1008$\n",
    "\n",
    "$w_{1,4}^{new} = 0.25 * 0.0033 * 0.542 - 0.2 = -0.1995$\n",
    "\n",
    "$w_{2,4}^{new} = 0.25 * 0.0033 * 0.589 + 0.1 = 0.1004$\n",
    "\n",
    "______________\n",
    "\n",
    "$δ_5 = 0.589 * (1 - 0.589) * (0.066 * 0.3) = 0.0048$\n",
    "\n",
    "$w_{0,5}^{new} = 0.25 * 0.0048 * 1.000 + 0.1 = 0.1012$\n",
    "\n",
    "$w_{1,5}^{new} = 0.25 * 0.0048 * 0.542 - 0.1 = -0.0993$\n",
    "\n",
    "$w_{2,5}^{new} = 0.25 * 0.0048 * 0.589 + 0.3 = 0.3007$\n",
    "\n",
    "______________"
   ]
  },
  {
   "cell_type": "markdown",
   "metadata": {},
   "source": [
    "Through this step of back propagation we changed the weights of the neural net:\n",
    "\n",
    "![Neural_net-back.png](attachment:Neural_net-back.png)"
   ]
  },
  {
   "cell_type": "markdown",
   "metadata": {},
   "source": [
    "If you run `forward_propagation()` and `back_propagation()` in loop, the network will change the weights according to $y$.<br>\n",
    "I add some other values to make it more useable."
   ]
  },
  {
   "cell_type": "code",
   "execution_count": 6,
   "metadata": {
    "scrolled": false
   },
   "outputs": [
    {
     "name": "stdout",
     "output_type": "stream",
     "text": [
      "Final output: [0.90551059 0.97500181 0.11433171]\n"
     ]
    }
   ],
   "source": [
    "X = np.array([ [0.1, 0.9], [1.0,1.0], [0.1,0.1] ]).T\n",
    "y = np.array([0.9, 1.0, 0.1])\n",
    "\n",
    "for i in range(500):\n",
    "    _, activations = forward_propagation(X)\n",
    "    back_propagation(y)\n",
    "    \n",
    "for j in (activations[-1]):\n",
    "    print('Final output:',j)"
   ]
  },
  {
   "cell_type": "markdown",
   "metadata": {},
   "source": [
    "As you can see after 500 iterations the final output seems to be very close to the target value."
   ]
  }
 ],
 "metadata": {
  "kernelspec": {
   "display_name": "Python 3",
   "language": "python",
   "name": "python3"
  },
  "language_info": {
   "codemirror_mode": {
    "name": "ipython",
    "version": 3
   },
   "file_extension": ".py",
   "mimetype": "text/x-python",
   "name": "python",
   "nbconvert_exporter": "python",
   "pygments_lexer": "ipython3",
   "version": "3.6.5"
  }
 },
 "nbformat": 4,
 "nbformat_minor": 2
}
