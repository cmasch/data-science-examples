{
 "cells": [
  {
   "cell_type": "markdown",
   "metadata": {},
   "source": [
    "## Useful RegEx for text analysis\n",
    "\n",
    "Overview:\n",
    "<div style=\"float:left\">\n",
    "    <table style=\"width:300px;\">\n",
    "      <tr>\n",
    "        <td style=\"width:80px; font-size:bold\"><b>\\d</b></td>\n",
    "        <td style=\"text-align:left;\">any digit</td>\n",
    "      </tr>\n",
    "      <tr>\n",
    "        <td><b>\\D</b></td>\n",
    "        <td style=\"text-align:left;\">any non digit character</td>\n",
    "      </tr>\n",
    "      <tr>\n",
    "        <td><b>{m}</b></td>\n",
    "        <td style=\"text-align:left;\">m repeats</td>\n",
    "      </tr>\n",
    "      <tr>\n",
    "        <td><b>{m,n}</b></td>\n",
    "        <td style=\"text-align:left;\">m to n repeats</td>\n",
    "      </tr>\n",
    "      <tr>\n",
    "        <td><b>\\*</b></td>\n",
    "        <td style=\"text-align:left;\">zero or many repeats</td>\n",
    "      </tr>\n",
    "      <tr>\n",
    "        <td><b>\\+</b></td>\n",
    "        <td style=\"text-align:left;\">one or more repeats</td>\n",
    "      </tr>\n",
    "      <tr>\n",
    "        <td><b>^</b></td>\n",
    "        <td style=\"text-align:left;\">start</td>\n",
    "      </tr>\n",
    "      <tr>\n",
    "        <td><b>$</b></td>\n",
    "        <td style=\"text-align:left;\">end</td>\n",
    "      </tr>\n",
    "      <tr>\n",
    "        <td><b>\\s</b></td>\n",
    "        <td style=\"text-align:left;\">any whitespace</td>\n",
    "      </tr>\n",
    "      <tr>\n",
    "        <td><b>\\S</b></td>\n",
    "        <td style=\"text-align:left;\">any non whitespace character</td>\n",
    "      </tr>\n",
    "      <tr>\n",
    "        <td><b>\\w</b></td>\n",
    "        <td style=\"text-align:left;\">any alphanumeric character</td>\n",
    "      </tr>\n",
    "      <tr>\n",
    "        <td><b>\\W</b></td>\n",
    "        <td style=\"text-align:left;\">any non alphanumeric character</td>\n",
    "      </tr>\n",
    "      <tr>\n",
    "        <td><b>.</b></td>\n",
    "        <td style=\"text-align:left;\">any character</td>\n",
    "      </tr>\n",
    "      <tr>\n",
    "        <td><b>?</b></td>\n",
    "        <td style=\"text-align:left;\">optional character</td>\n",
    "      </tr>\n",
    "      <tr>\n",
    "        <td><b>[a-z]</b></td>\n",
    "        <td style=\"text-align:left;\">all characters from a to z</td>\n",
    "      </tr>\n",
    "      <tr>\n",
    "        <td><b>[abc]</b></td>\n",
    "        <td style=\"text-align:left;\">just a, b or c</td>\n",
    "      </tr>\n",
    "      <tr>\n",
    "        <td><b>[^abc]</b></td>\n",
    "        <td style=\"text-align:left;\">not a, b or c</td>\n",
    "      </tr>\n",
    "      <tr>\n",
    "        <td><b>[0-9]</b></td>\n",
    "        <td style=\"text-align:left;\">all numbers from 0 to 9</td>\n",
    "      </tr>\n",
    "      <tr>\n",
    "        <td><b>(ab|cd)</b></td>\n",
    "        <td style=\"text-align:left;\">matches ab or cd</td>\n",
    "      </tr>\n",
    "    </table>\n",
    "</div>"
   ]
  },
  {
   "cell_type": "code",
   "execution_count": 1,
   "metadata": {},
   "outputs": [],
   "source": [
    "import re"
   ]
  },
  {
   "cell_type": "markdown",
   "metadata": {},
   "source": [
    "#### Find e-mail addresses"
   ]
  },
  {
   "cell_type": "code",
   "execution_count": 2,
   "metadata": {},
   "outputs": [
    {
     "name": "stdout",
     "output_type": "stream",
     "text": [
      "['example.test@test.com', 'example1@test.net']\n"
     ]
    }
   ],
   "source": [
    "text_email  = 'My email is example.test@test.com and <example1@test.net_?.'\n",
    "regex_email = re.compile(r\"\\\"?([-a-zA-Z0-9._`?{}]+@\\w+\\.+[a-zA-Z0-9\\-]+)\\\"?\", re.IGNORECASE)\n",
    "\n",
    "print(re.findall(regex_email, text_email))"
   ]
  },
  {
   "cell_type": "markdown",
   "metadata": {},
   "source": [
    "#### Extract e-mail domains"
   ]
  },
  {
   "cell_type": "code",
   "execution_count": 3,
   "metadata": {},
   "outputs": [
    {
     "name": "stdout",
     "output_type": "stream",
     "text": [
      "['test.com', 'test.net']\n"
     ]
    }
   ],
   "source": [
    "text_email_domains  = 'My email is example.test@test.com and <example1@test.net_?.'\n",
    "regex_email_domains = re.compile(r\"\\\"?[-a-zA-Z0-9._`?{}]+@(\\w+\\.+[a-zA-Z0-9\\-]+)\\\"?\", re.IGNORECASE)\n",
    "\n",
    "print(re.findall(regex_email_domains, text_email_domains))"
   ]
  },
  {
   "cell_type": "markdown",
   "metadata": {},
   "source": [
    "#### Get URLS"
   ]
  },
  {
   "cell_type": "code",
   "execution_count": 4,
   "metadata": {},
   "outputs": [
    {
     "name": "stdout",
     "output_type": "stream",
     "text": [
      "['http://www.test.de', 'https://www.test.de', 'www.test.com']\n"
     ]
    }
   ],
   "source": [
    "text_urls  = 'The links are http://www.test.de\\xab<, https://www.test.de and www.test.com'\n",
    "regex_urls = re.compile(\"((?:https?://|www\\d{0,3}[.])?[a-z0-9.\\-]+[.](?:(?:de)|(?:com)|(?:net)))\", re.IGNORECASE)\n",
    "\n",
    "print(re.findall(regex_urls, text_urls))"
   ]
  },
  {
   "cell_type": "markdown",
   "metadata": {},
   "source": [
    "#### Find a specific number e.g. id number of length 10"
   ]
  },
  {
   "cell_type": "code",
   "execution_count": 5,
   "metadata": {},
   "outputs": [
    {
     "name": "stdout",
     "output_type": "stream",
     "text": [
      "['1234567890']\n"
     ]
    }
   ],
   "source": [
    "credit_no    = 'Hello my id is 1234567890 and not 12342554644846532131'\n",
    "regex_id_no  = re.compile(r'\\b\\d{10}(?:[-\\s]\\d{4})?\\b')\n",
    "\n",
    "print(re.findall(regex_id_no, credit_no))"
   ]
  },
  {
   "cell_type": "markdown",
   "metadata": {},
   "source": [
    "#### Find dates"
   ]
  },
  {
   "cell_type": "code",
   "execution_count": 6,
   "metadata": {},
   "outputs": [
    {
     "name": "stdout",
     "output_type": "stream",
     "text": [
      "['20.09.1993', '21-07-2018', '1/1/2001', '02.02.18']\n"
     ]
    }
   ],
   "source": [
    "text_date  = 'Today is 20.09.1993 or 21-07-2018 or 1/1/2001_02.02.18'\n",
    "regex_date = re.compile(r\"(\\d{1,2}[/.-]\\d{1,2}[/.-]\\d{2,4})\", re.IGNORECASE)\n",
    "\n",
    "print(re.findall(regex_date, text_date))"
   ]
  },
  {
   "cell_type": "markdown",
   "metadata": {},
   "source": [
    "#### Extract value between two tags "
   ]
  },
  {
   "cell_type": "code",
   "execution_count": 7,
   "metadata": {},
   "outputs": [
    {
     "name": "stdout",
     "output_type": "stream",
     "text": [
      "['this is']\n"
     ]
    }
   ],
   "source": [
    "tags = 'Hey <pos>this is<end> a tag'\n",
    "regex_tags = re.compile(r'.<pos>(.+)<end>.', re.IGNORECASE)\n",
    "\n",
    "print(re.findall(regex_tags, tags))"
   ]
  },
  {
   "cell_type": "markdown",
   "metadata": {},
   "source": [
    "#### Find telephonenumbers "
   ]
  },
  {
   "cell_type": "code",
   "execution_count": 8,
   "metadata": {},
   "outputs": [
    {
     "name": "stdout",
     "output_type": "stream",
     "text": [
      "['+136-123456789']\n"
     ]
    }
   ],
   "source": [
    "text_tele  = 'My no is +136-123456789?'\n",
    "regex_tele = re.compile(r\"([+0-9]*[0-9]{2,5}[-. ][0-9]*)\", re.IGNORECASE)\n",
    "\n",
    "print(re.findall(regex_tele, text_tele))"
   ]
  },
  {
   "cell_type": "markdown",
   "metadata": {},
   "source": [
    "#### Find streetnames"
   ]
  },
  {
   "cell_type": "code",
   "execution_count": 9,
   "metadata": {},
   "outputs": [
    {
     "name": "stdout",
     "output_type": "stream",
     "text": [
      "['talst. 5', 'talstreet 5']\n"
     ]
    }
   ],
   "source": [
    "text_street  = 'Hi im living in the street of talst. 5 or talstreet 5'\n",
    "regex_street = re.compile('[-a-zA-Z0-9._`?{}]+(?:street|st|avenue)[. ]*\\d{1,4}\\W?(?=\\s|$)', re.IGNORECASE)\n",
    "\n",
    "print(re.findall(regex_street, text_street))"
   ]
  },
  {
   "cell_type": "markdown",
   "metadata": {},
   "source": [
    "#### Find surnames"
   ]
  },
  {
   "cell_type": "code",
   "execution_count": 10,
   "metadata": {},
   "outputs": [
    {
     "name": "stdout",
     "output_type": "stream",
     "text": [
      "['heisenberg', 'titan']\n"
     ]
    }
   ],
   "source": [
    "text_name  = 'My dear mr. heisenberg and mrs titan'\n",
    "regex_name = re.compile('(?:hello|dear|and)[]*(?:mr|mrs)[. ]*([-a-zA-Z0-9._`?{}]*)', re.IGNORECASE)\n",
    "\n",
    "print(re.findall(regex_name, text_name))"
   ]
  },
  {
   "cell_type": "markdown",
   "metadata": {},
   "source": [
    "#### Remove punctuation"
   ]
  },
  {
   "cell_type": "code",
   "execution_count": 11,
   "metadata": {},
   "outputs": [
    {
     "name": "stdout",
     "output_type": "stream",
     "text": [
      "I can read this \n"
     ]
    }
   ],
   "source": [
    "text_punct  = 'I()=can/\"/&$read%%.this!+'\n",
    "regex_punct = re.compile(r'['+'!\"#$%&\\'()*+,-./:;<=>?[\\\\]^_`{|}~'+']+', re.IGNORECASE)\n",
    "\n",
    "print(re.sub(regex_punct,' ',text_punct))"
   ]
  },
  {
   "cell_type": "markdown",
   "metadata": {},
   "source": [
    "#### Remove multiple whitespaces, tabs and linebreaks"
   ]
  },
  {
   "cell_type": "code",
   "execution_count": 12,
   "metadata": {},
   "outputs": [
    {
     "name": "stdout",
     "output_type": "stream",
     "text": [
      "I have a cat. Yes yes.\n"
     ]
    }
   ],
   "source": [
    "text_ws  = 'I have a                         cat.\\tYes \\nyes.'\n",
    "regex_ws = re.compile(r\"\\s+\", re.IGNORECASE)\n",
    "\n",
    "print(re.sub(regex_ws, ' ', text_ws))"
   ]
  },
  {
   "cell_type": "markdown",
   "metadata": {},
   "source": [
    "#### Remove / replace numbers"
   ]
  },
  {
   "cell_type": "code",
   "execution_count": 13,
   "metadata": {},
   "outputs": [
    {
     "name": "stdout",
     "output_type": "stream",
     "text": [
      "I will stay for xx days.\n"
     ]
    }
   ],
   "source": [
    "text_num  = 'I will stay for 23 days.'\n",
    "regex_num = re.compile(r'[0-9]+', re.IGNORECASE)\n",
    "\n",
    "print(re.sub(regex_num,'xx',text_num))"
   ]
  }
 ],
 "metadata": {
  "kernelspec": {
   "display_name": "Python 3",
   "language": "python",
   "name": "python3"
  },
  "language_info": {
   "codemirror_mode": {
    "name": "ipython",
    "version": 3
   },
   "file_extension": ".py",
   "mimetype": "text/x-python",
   "name": "python",
   "nbconvert_exporter": "python",
   "pygments_lexer": "ipython3",
   "version": "3.6.5"
  }
 },
 "nbformat": 4,
 "nbformat_minor": 2
}
